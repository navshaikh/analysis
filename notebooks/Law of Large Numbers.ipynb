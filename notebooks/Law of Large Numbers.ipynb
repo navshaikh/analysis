{
 "cells": [
  {
   "cell_type": "markdown",
   "metadata": {},
   "source": [
    "### Teaching kids: Frequency Distribution and Law of Large Numbers\n",
    "- Roll two dice and add their results\n",
    "- Demonstrate [Law of Large Numbers](https://en.wikipedia.org/wiki/Law_of_large_numbers) by simulating over multiple runs"
   ]
  },
  {
   "cell_type": "code",
   "execution_count": null,
   "metadata": {},
   "outputs": [],
   "source": [
    "%matplotlib inline\n",
    "import matplotlib.pyplot as plt\n",
    "import random\n",
    "from collections import Counter"
   ]
  },
  {
   "cell_type": "code",
   "execution_count": null,
   "metadata": {},
   "outputs": [],
   "source": [
    "def roll_fair_dice():\n",
    "    \"\"\" Roll a fair six-sided dice with values 1-6 \"\"\"\n",
    "    return random.sample([1,2,3,4,5,6],1)[0]"
   ]
  },
  {
   "cell_type": "code",
   "execution_count": null,
   "metadata": {},
   "outputs": [],
   "source": [
    "def add_two_dice(times):\n",
    "    \"\"\"\n",
    "    Roll two six-sided fair dice 'times' times and \n",
    "    add their values.\n",
    "    Return frequencies of the sum of the rolls as mapping\n",
    "    {sum: frequency}\n",
    "    \"\"\"\n",
    "    \n",
    "    tracker = Counter()\n",
    "    for _ in range(times):\n",
    "        add = roll_fair_dice() + roll_fair_dice()\n",
    "        tracker[add] += 1\n",
    "    return tracker"
   ]
  },
  {
   "cell_type": "markdown",
   "metadata": {},
   "source": [
    "## Run Simulations\n",
    "Let's roll two dice 10<sup>x</sup> times where x={1..6}. Track frequency of the sums of two rolls"
   ]
  },
  {
   "cell_type": "code",
   "execution_count": null,
   "metadata": {},
   "outputs": [],
   "source": [
    "possible_sums = [x for x in range(2,13)]\n",
    "simulation_times = [10**(x+1) for x in range(6)]\n",
    "results = [add_two_dice(sim) for sim in simulation_times]"
   ]
  },
  {
   "cell_type": "code",
   "execution_count": null,
   "metadata": {},
   "outputs": [],
   "source": [
    "assert(len(results) == 6)"
   ]
  },
  {
   "cell_type": "markdown",
   "metadata": {},
   "source": [
    "## Plot Results\n",
    "Plot histogram with sum of two dice rolls on x-axis and frequency on y-axis"
   ]
  },
  {
   "cell_type": "code",
   "execution_count": null,
   "metadata": {},
   "outputs": [],
   "source": [
    "# Plot results in 2x3 grid\n",
    "fig, axs = plt.subplots(2, 3, figsize=(20,10))\n",
    "\n",
    "for x in range(2):\n",
    "    for y in range(3):\n",
    "        axs[x][y].bar(possible_sums, [results[(x*3)+y][p] for p in possible_sums], facecolor='pink')\n",
    "        axs[x][y].set_xticks(possible_sums)\n",
    "        axs[x][y].set_title(\"n={0}\".format(simulation_times[(x*3)+y]))\n",
    "        \n",
    "        if y == 0:\n",
    "            axs[x][y].set_ylabel(\"Frequency\")"
   ]
  }
 ],
 "metadata": {
  "kernelspec": {
   "display_name": "Python 3",
   "language": "python",
   "name": "python3"
  },
  "language_info": {
   "codemirror_mode": {
    "name": "ipython",
    "version": 3
   },
   "file_extension": ".py",
   "mimetype": "text/x-python",
   "name": "python",
   "nbconvert_exporter": "python",
   "pygments_lexer": "ipython3",
   "version": "3.7.1"
  }
 },
 "nbformat": 4,
 "nbformat_minor": 4
}
